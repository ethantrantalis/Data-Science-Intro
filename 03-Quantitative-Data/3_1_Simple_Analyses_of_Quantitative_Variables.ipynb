{
  "nbformat": 4,
  "nbformat_minor": 0,
  "metadata": {
    "colab": {
      "name": "3.1 Simple Analyses of Quantitative Variables",
      "provenance": [],
      "collapsed_sections": [
        "Z4yNNG7m87M0",
        "1fQpqJu68-0C",
        "MxcFa2EHAJCi",
        "Cubp2y63BEbM"
      ],
      "include_colab_link": true
    },
    "kernelspec": {
      "name": "python3",
      "display_name": "Python 3"
    }
  },
  "cells": [
    {
      "cell_type": "markdown",
      "metadata": {
        "id": "view-in-github",
        "colab_type": "text"
      },
      "source": [
        "<a href=\"https://colab.research.google.com/github/ethantrantalis/Data-Science-Intro/blob/master/03-Quantitative-Data/3_1_Simple_Analyses_of_Quantitative_Variables.ipynb\" target=\"_parent\"><img src=\"https://colab.research.google.com/assets/colab-badge.svg\" alt=\"Open In Colab\"/></a>"
      ]
    },
    {
      "cell_type": "markdown",
      "metadata": {
        "id": "YF_1q_0kjVGf"
      },
      "source": [
        "In the previous chapter, we discussed ways to analyze categorical variables, such as **gender**, **class**, and **embarked** in the Titanic data set. In this chapter, we discuss ways to analyze quantitative variables, such as **age** and **fare**."
      ]
    },
    {
      "cell_type": "code",
      "metadata": {
        "id": "WQrxrFke5X-F",
        "colab": {
          "base_uri": "https://localhost:8080/",
          "height": 424
        },
        "outputId": "34268d35-ff26-4323-c01a-9182553c1575"
      },
      "source": [
        "import pandas as pd\n",
        "data_dir = \"http://dlsun.github.io/pods/data/\"\n",
        "df_titanic = pd.read_csv(data_dir + \"titanic.csv\")\n",
        "df_titanic"
      ],
      "execution_count": 3,
      "outputs": [
        {
          "output_type": "execute_result",
          "data": {
            "text/plain": [
              "                                name  gender   age             class embarked  \\\n",
              "0                Abbing, Mr. Anthony    male  42.0               3rd        S   \n",
              "1          Abbott, Mr. Eugene Joseph    male  13.0               3rd        S   \n",
              "2        Abbott, Mr. Rossmore Edward    male  16.0               3rd        S   \n",
              "3     Abbott, Mrs. Rhoda Mary 'Rosa'  female  39.0               3rd        S   \n",
              "4        Abelseth, Miss. Karen Marie  female  16.0               3rd        S   \n",
              "...                              ...     ...   ...               ...      ...   \n",
              "2202                Wynn, Mr. Walter    male  41.0         deck crew        B   \n",
              "2203             Yearsley, Mr. Harry    male  40.0  victualling crew        S   \n",
              "2204        Young, Mr. Francis James    male  32.0  engineering crew        S   \n",
              "2205             Zanetti, Sig. Minio    male  20.0  restaurant staff        S   \n",
              "2206              Zarracchi, Sig. L.    male  26.0  restaurant staff        S   \n",
              "\n",
              "            country  ticketno   fare  survived  \n",
              "0     United States    5547.0   7.11         0  \n",
              "1     United States    2673.0  20.05         0  \n",
              "2     United States    2673.0  20.05         0  \n",
              "3           England    2673.0  20.05         1  \n",
              "4            Norway  348125.0   7.13         1  \n",
              "...             ...       ...    ...       ...  \n",
              "2202        England       NaN    NaN         1  \n",
              "2203        England       NaN    NaN         1  \n",
              "2204        England       NaN    NaN         0  \n",
              "2205        England       NaN    NaN         0  \n",
              "2206        England       NaN    NaN         0  \n",
              "\n",
              "[2207 rows x 9 columns]"
            ],
            "text/html": [
              "\n",
              "  <div id=\"df-f2f4b62c-10ba-431e-b3ae-a3c79dd8b08b\" class=\"colab-df-container\">\n",
              "    <div>\n",
              "<style scoped>\n",
              "    .dataframe tbody tr th:only-of-type {\n",
              "        vertical-align: middle;\n",
              "    }\n",
              "\n",
              "    .dataframe tbody tr th {\n",
              "        vertical-align: top;\n",
              "    }\n",
              "\n",
              "    .dataframe thead th {\n",
              "        text-align: right;\n",
              "    }\n",
              "</style>\n",
              "<table border=\"1\" class=\"dataframe\">\n",
              "  <thead>\n",
              "    <tr style=\"text-align: right;\">\n",
              "      <th></th>\n",
              "      <th>name</th>\n",
              "      <th>gender</th>\n",
              "      <th>age</th>\n",
              "      <th>class</th>\n",
              "      <th>embarked</th>\n",
              "      <th>country</th>\n",
              "      <th>ticketno</th>\n",
              "      <th>fare</th>\n",
              "      <th>survived</th>\n",
              "    </tr>\n",
              "  </thead>\n",
              "  <tbody>\n",
              "    <tr>\n",
              "      <th>0</th>\n",
              "      <td>Abbing, Mr. Anthony</td>\n",
              "      <td>male</td>\n",
              "      <td>42.0</td>\n",
              "      <td>3rd</td>\n",
              "      <td>S</td>\n",
              "      <td>United States</td>\n",
              "      <td>5547.0</td>\n",
              "      <td>7.11</td>\n",
              "      <td>0</td>\n",
              "    </tr>\n",
              "    <tr>\n",
              "      <th>1</th>\n",
              "      <td>Abbott, Mr. Eugene Joseph</td>\n",
              "      <td>male</td>\n",
              "      <td>13.0</td>\n",
              "      <td>3rd</td>\n",
              "      <td>S</td>\n",
              "      <td>United States</td>\n",
              "      <td>2673.0</td>\n",
              "      <td>20.05</td>\n",
              "      <td>0</td>\n",
              "    </tr>\n",
              "    <tr>\n",
              "      <th>2</th>\n",
              "      <td>Abbott, Mr. Rossmore Edward</td>\n",
              "      <td>male</td>\n",
              "      <td>16.0</td>\n",
              "      <td>3rd</td>\n",
              "      <td>S</td>\n",
              "      <td>United States</td>\n",
              "      <td>2673.0</td>\n",
              "      <td>20.05</td>\n",
              "      <td>0</td>\n",
              "    </tr>\n",
              "    <tr>\n",
              "      <th>3</th>\n",
              "      <td>Abbott, Mrs. Rhoda Mary 'Rosa'</td>\n",
              "      <td>female</td>\n",
              "      <td>39.0</td>\n",
              "      <td>3rd</td>\n",
              "      <td>S</td>\n",
              "      <td>England</td>\n",
              "      <td>2673.0</td>\n",
              "      <td>20.05</td>\n",
              "      <td>1</td>\n",
              "    </tr>\n",
              "    <tr>\n",
              "      <th>4</th>\n",
              "      <td>Abelseth, Miss. Karen Marie</td>\n",
              "      <td>female</td>\n",
              "      <td>16.0</td>\n",
              "      <td>3rd</td>\n",
              "      <td>S</td>\n",
              "      <td>Norway</td>\n",
              "      <td>348125.0</td>\n",
              "      <td>7.13</td>\n",
              "      <td>1</td>\n",
              "    </tr>\n",
              "    <tr>\n",
              "      <th>...</th>\n",
              "      <td>...</td>\n",
              "      <td>...</td>\n",
              "      <td>...</td>\n",
              "      <td>...</td>\n",
              "      <td>...</td>\n",
              "      <td>...</td>\n",
              "      <td>...</td>\n",
              "      <td>...</td>\n",
              "      <td>...</td>\n",
              "    </tr>\n",
              "    <tr>\n",
              "      <th>2202</th>\n",
              "      <td>Wynn, Mr. Walter</td>\n",
              "      <td>male</td>\n",
              "      <td>41.0</td>\n",
              "      <td>deck crew</td>\n",
              "      <td>B</td>\n",
              "      <td>England</td>\n",
              "      <td>NaN</td>\n",
              "      <td>NaN</td>\n",
              "      <td>1</td>\n",
              "    </tr>\n",
              "    <tr>\n",
              "      <th>2203</th>\n",
              "      <td>Yearsley, Mr. Harry</td>\n",
              "      <td>male</td>\n",
              "      <td>40.0</td>\n",
              "      <td>victualling crew</td>\n",
              "      <td>S</td>\n",
              "      <td>England</td>\n",
              "      <td>NaN</td>\n",
              "      <td>NaN</td>\n",
              "      <td>1</td>\n",
              "    </tr>\n",
              "    <tr>\n",
              "      <th>2204</th>\n",
              "      <td>Young, Mr. Francis James</td>\n",
              "      <td>male</td>\n",
              "      <td>32.0</td>\n",
              "      <td>engineering crew</td>\n",
              "      <td>S</td>\n",
              "      <td>England</td>\n",
              "      <td>NaN</td>\n",
              "      <td>NaN</td>\n",
              "      <td>0</td>\n",
              "    </tr>\n",
              "    <tr>\n",
              "      <th>2205</th>\n",
              "      <td>Zanetti, Sig. Minio</td>\n",
              "      <td>male</td>\n",
              "      <td>20.0</td>\n",
              "      <td>restaurant staff</td>\n",
              "      <td>S</td>\n",
              "      <td>England</td>\n",
              "      <td>NaN</td>\n",
              "      <td>NaN</td>\n",
              "      <td>0</td>\n",
              "    </tr>\n",
              "    <tr>\n",
              "      <th>2206</th>\n",
              "      <td>Zarracchi, Sig. L.</td>\n",
              "      <td>male</td>\n",
              "      <td>26.0</td>\n",
              "      <td>restaurant staff</td>\n",
              "      <td>S</td>\n",
              "      <td>England</td>\n",
              "      <td>NaN</td>\n",
              "      <td>NaN</td>\n",
              "      <td>0</td>\n",
              "    </tr>\n",
              "  </tbody>\n",
              "</table>\n",
              "<p>2207 rows × 9 columns</p>\n",
              "</div>\n",
              "    <div class=\"colab-df-buttons\">\n",
              "\n",
              "  <div class=\"colab-df-container\">\n",
              "    <button class=\"colab-df-convert\" onclick=\"convertToInteractive('df-f2f4b62c-10ba-431e-b3ae-a3c79dd8b08b')\"\n",
              "            title=\"Convert this dataframe to an interactive table.\"\n",
              "            style=\"display:none;\">\n",
              "\n",
              "  <svg xmlns=\"http://www.w3.org/2000/svg\" height=\"24px\" viewBox=\"0 -960 960 960\">\n",
              "    <path d=\"M120-120v-720h720v720H120Zm60-500h600v-160H180v160Zm220 220h160v-160H400v160Zm0 220h160v-160H400v160ZM180-400h160v-160H180v160Zm440 0h160v-160H620v160ZM180-180h160v-160H180v160Zm440 0h160v-160H620v160Z\"/>\n",
              "  </svg>\n",
              "    </button>\n",
              "\n",
              "  <style>\n",
              "    .colab-df-container {\n",
              "      display:flex;\n",
              "      gap: 12px;\n",
              "    }\n",
              "\n",
              "    .colab-df-convert {\n",
              "      background-color: #E8F0FE;\n",
              "      border: none;\n",
              "      border-radius: 50%;\n",
              "      cursor: pointer;\n",
              "      display: none;\n",
              "      fill: #1967D2;\n",
              "      height: 32px;\n",
              "      padding: 0 0 0 0;\n",
              "      width: 32px;\n",
              "    }\n",
              "\n",
              "    .colab-df-convert:hover {\n",
              "      background-color: #E2EBFA;\n",
              "      box-shadow: 0px 1px 2px rgba(60, 64, 67, 0.3), 0px 1px 3px 1px rgba(60, 64, 67, 0.15);\n",
              "      fill: #174EA6;\n",
              "    }\n",
              "\n",
              "    .colab-df-buttons div {\n",
              "      margin-bottom: 4px;\n",
              "    }\n",
              "\n",
              "    [theme=dark] .colab-df-convert {\n",
              "      background-color: #3B4455;\n",
              "      fill: #D2E3FC;\n",
              "    }\n",
              "\n",
              "    [theme=dark] .colab-df-convert:hover {\n",
              "      background-color: #434B5C;\n",
              "      box-shadow: 0px 1px 3px 1px rgba(0, 0, 0, 0.15);\n",
              "      filter: drop-shadow(0px 1px 2px rgba(0, 0, 0, 0.3));\n",
              "      fill: #FFFFFF;\n",
              "    }\n",
              "  </style>\n",
              "\n",
              "    <script>\n",
              "      const buttonEl =\n",
              "        document.querySelector('#df-f2f4b62c-10ba-431e-b3ae-a3c79dd8b08b button.colab-df-convert');\n",
              "      buttonEl.style.display =\n",
              "        google.colab.kernel.accessAllowed ? 'block' : 'none';\n",
              "\n",
              "      async function convertToInteractive(key) {\n",
              "        const element = document.querySelector('#df-f2f4b62c-10ba-431e-b3ae-a3c79dd8b08b');\n",
              "        const dataTable =\n",
              "          await google.colab.kernel.invokeFunction('convertToInteractive',\n",
              "                                                    [key], {});\n",
              "        if (!dataTable) return;\n",
              "\n",
              "        const docLinkHtml = 'Like what you see? Visit the ' +\n",
              "          '<a target=\"_blank\" href=https://colab.research.google.com/notebooks/data_table.ipynb>data table notebook</a>'\n",
              "          + ' to learn more about interactive tables.';\n",
              "        element.innerHTML = '';\n",
              "        dataTable['output_type'] = 'display_data';\n",
              "        await google.colab.output.renderOutput(dataTable, element);\n",
              "        const docLink = document.createElement('div');\n",
              "        docLink.innerHTML = docLinkHtml;\n",
              "        element.appendChild(docLink);\n",
              "      }\n",
              "    </script>\n",
              "  </div>\n",
              "\n",
              "\n",
              "<div id=\"df-262ee329-9a5d-4daa-a08e-a489c1683729\">\n",
              "  <button class=\"colab-df-quickchart\" onclick=\"quickchart('df-262ee329-9a5d-4daa-a08e-a489c1683729')\"\n",
              "            title=\"Suggest charts\"\n",
              "            style=\"display:none;\">\n",
              "\n",
              "<svg xmlns=\"http://www.w3.org/2000/svg\" height=\"24px\"viewBox=\"0 0 24 24\"\n",
              "     width=\"24px\">\n",
              "    <g>\n",
              "        <path d=\"M19 3H5c-1.1 0-2 .9-2 2v14c0 1.1.9 2 2 2h14c1.1 0 2-.9 2-2V5c0-1.1-.9-2-2-2zM9 17H7v-7h2v7zm4 0h-2V7h2v10zm4 0h-2v-4h2v4z\"/>\n",
              "    </g>\n",
              "</svg>\n",
              "  </button>\n",
              "\n",
              "<style>\n",
              "  .colab-df-quickchart {\n",
              "      --bg-color: #E8F0FE;\n",
              "      --fill-color: #1967D2;\n",
              "      --hover-bg-color: #E2EBFA;\n",
              "      --hover-fill-color: #174EA6;\n",
              "      --disabled-fill-color: #AAA;\n",
              "      --disabled-bg-color: #DDD;\n",
              "  }\n",
              "\n",
              "  [theme=dark] .colab-df-quickchart {\n",
              "      --bg-color: #3B4455;\n",
              "      --fill-color: #D2E3FC;\n",
              "      --hover-bg-color: #434B5C;\n",
              "      --hover-fill-color: #FFFFFF;\n",
              "      --disabled-bg-color: #3B4455;\n",
              "      --disabled-fill-color: #666;\n",
              "  }\n",
              "\n",
              "  .colab-df-quickchart {\n",
              "    background-color: var(--bg-color);\n",
              "    border: none;\n",
              "    border-radius: 50%;\n",
              "    cursor: pointer;\n",
              "    display: none;\n",
              "    fill: var(--fill-color);\n",
              "    height: 32px;\n",
              "    padding: 0;\n",
              "    width: 32px;\n",
              "  }\n",
              "\n",
              "  .colab-df-quickchart:hover {\n",
              "    background-color: var(--hover-bg-color);\n",
              "    box-shadow: 0 1px 2px rgba(60, 64, 67, 0.3), 0 1px 3px 1px rgba(60, 64, 67, 0.15);\n",
              "    fill: var(--button-hover-fill-color);\n",
              "  }\n",
              "\n",
              "  .colab-df-quickchart-complete:disabled,\n",
              "  .colab-df-quickchart-complete:disabled:hover {\n",
              "    background-color: var(--disabled-bg-color);\n",
              "    fill: var(--disabled-fill-color);\n",
              "    box-shadow: none;\n",
              "  }\n",
              "\n",
              "  .colab-df-spinner {\n",
              "    border: 2px solid var(--fill-color);\n",
              "    border-color: transparent;\n",
              "    border-bottom-color: var(--fill-color);\n",
              "    animation:\n",
              "      spin 1s steps(1) infinite;\n",
              "  }\n",
              "\n",
              "  @keyframes spin {\n",
              "    0% {\n",
              "      border-color: transparent;\n",
              "      border-bottom-color: var(--fill-color);\n",
              "      border-left-color: var(--fill-color);\n",
              "    }\n",
              "    20% {\n",
              "      border-color: transparent;\n",
              "      border-left-color: var(--fill-color);\n",
              "      border-top-color: var(--fill-color);\n",
              "    }\n",
              "    30% {\n",
              "      border-color: transparent;\n",
              "      border-left-color: var(--fill-color);\n",
              "      border-top-color: var(--fill-color);\n",
              "      border-right-color: var(--fill-color);\n",
              "    }\n",
              "    40% {\n",
              "      border-color: transparent;\n",
              "      border-right-color: var(--fill-color);\n",
              "      border-top-color: var(--fill-color);\n",
              "    }\n",
              "    60% {\n",
              "      border-color: transparent;\n",
              "      border-right-color: var(--fill-color);\n",
              "    }\n",
              "    80% {\n",
              "      border-color: transparent;\n",
              "      border-right-color: var(--fill-color);\n",
              "      border-bottom-color: var(--fill-color);\n",
              "    }\n",
              "    90% {\n",
              "      border-color: transparent;\n",
              "      border-bottom-color: var(--fill-color);\n",
              "    }\n",
              "  }\n",
              "</style>\n",
              "\n",
              "  <script>\n",
              "    async function quickchart(key) {\n",
              "      const quickchartButtonEl =\n",
              "        document.querySelector('#' + key + ' button');\n",
              "      quickchartButtonEl.disabled = true;  // To prevent multiple clicks.\n",
              "      quickchartButtonEl.classList.add('colab-df-spinner');\n",
              "      try {\n",
              "        const charts = await google.colab.kernel.invokeFunction(\n",
              "            'suggestCharts', [key], {});\n",
              "      } catch (error) {\n",
              "        console.error('Error during call to suggestCharts:', error);\n",
              "      }\n",
              "      quickchartButtonEl.classList.remove('colab-df-spinner');\n",
              "      quickchartButtonEl.classList.add('colab-df-quickchart-complete');\n",
              "    }\n",
              "    (() => {\n",
              "      let quickchartButtonEl =\n",
              "        document.querySelector('#df-262ee329-9a5d-4daa-a08e-a489c1683729 button');\n",
              "      quickchartButtonEl.style.display =\n",
              "        google.colab.kernel.accessAllowed ? 'block' : 'none';\n",
              "    })();\n",
              "  </script>\n",
              "</div>\n",
              "\n",
              "  <div id=\"id_abae7375-519a-48f4-a728-ae70b5766233\">\n",
              "    <style>\n",
              "      .colab-df-generate {\n",
              "        background-color: #E8F0FE;\n",
              "        border: none;\n",
              "        border-radius: 50%;\n",
              "        cursor: pointer;\n",
              "        display: none;\n",
              "        fill: #1967D2;\n",
              "        height: 32px;\n",
              "        padding: 0 0 0 0;\n",
              "        width: 32px;\n",
              "      }\n",
              "\n",
              "      .colab-df-generate:hover {\n",
              "        background-color: #E2EBFA;\n",
              "        box-shadow: 0px 1px 2px rgba(60, 64, 67, 0.3), 0px 1px 3px 1px rgba(60, 64, 67, 0.15);\n",
              "        fill: #174EA6;\n",
              "      }\n",
              "\n",
              "      [theme=dark] .colab-df-generate {\n",
              "        background-color: #3B4455;\n",
              "        fill: #D2E3FC;\n",
              "      }\n",
              "\n",
              "      [theme=dark] .colab-df-generate:hover {\n",
              "        background-color: #434B5C;\n",
              "        box-shadow: 0px 1px 3px 1px rgba(0, 0, 0, 0.15);\n",
              "        filter: drop-shadow(0px 1px 2px rgba(0, 0, 0, 0.3));\n",
              "        fill: #FFFFFF;\n",
              "      }\n",
              "    </style>\n",
              "    <button class=\"colab-df-generate\" onclick=\"generateWithVariable('df_titanic')\"\n",
              "            title=\"Generate code using this dataframe.\"\n",
              "            style=\"display:none;\">\n",
              "\n",
              "  <svg xmlns=\"http://www.w3.org/2000/svg\" height=\"24px\"viewBox=\"0 0 24 24\"\n",
              "       width=\"24px\">\n",
              "    <path d=\"M7,19H8.4L18.45,9,17,7.55,7,17.6ZM5,21V16.75L18.45,3.32a2,2,0,0,1,2.83,0l1.4,1.43a1.91,1.91,0,0,1,.58,1.4,1.91,1.91,0,0,1-.58,1.4L9.25,21ZM18.45,9,17,7.55Zm-12,3A5.31,5.31,0,0,0,4.9,8.1,5.31,5.31,0,0,0,1,6.5,5.31,5.31,0,0,0,4.9,4.9,5.31,5.31,0,0,0,6.5,1,5.31,5.31,0,0,0,8.1,4.9,5.31,5.31,0,0,0,12,6.5,5.46,5.46,0,0,0,6.5,12Z\"/>\n",
              "  </svg>\n",
              "    </button>\n",
              "    <script>\n",
              "      (() => {\n",
              "      const buttonEl =\n",
              "        document.querySelector('#id_abae7375-519a-48f4-a728-ae70b5766233 button.colab-df-generate');\n",
              "      buttonEl.style.display =\n",
              "        google.colab.kernel.accessAllowed ? 'block' : 'none';\n",
              "\n",
              "      buttonEl.onclick = () => {\n",
              "        google.colab.notebook.generateWithVariable('df_titanic');\n",
              "      }\n",
              "      })();\n",
              "    </script>\n",
              "  </div>\n",
              "\n",
              "    </div>\n",
              "  </div>\n"
            ],
            "application/vnd.google.colaboratory.intrinsic+json": {
              "type": "dataframe",
              "variable_name": "df_titanic",
              "summary": "{\n  \"name\": \"df_titanic\",\n  \"rows\": 2207,\n  \"fields\": [\n    {\n      \"column\": \"name\",\n      \"properties\": {\n        \"dtype\": \"string\",\n        \"num_unique_values\": 2202,\n        \"samples\": [\n          \"McCoy, Miss. Agnes\",\n          \"Icard, Miss. Rose Am\\u00e9lie\",\n          \"Topp, Mr. Thomas\"\n        ],\n        \"semantic_type\": \"\",\n        \"description\": \"\"\n      }\n    },\n    {\n      \"column\": \"gender\",\n      \"properties\": {\n        \"dtype\": \"category\",\n        \"num_unique_values\": 2,\n        \"samples\": [\n          \"female\",\n          \"male\"\n        ],\n        \"semantic_type\": \"\",\n        \"description\": \"\"\n      }\n    },\n    {\n      \"column\": \"age\",\n      \"properties\": {\n        \"dtype\": \"number\",\n        \"std\": 12.159676939178318,\n        \"min\": 0.1666666667,\n        \"max\": 74.0,\n        \"num_unique_values\": 79,\n        \"samples\": [\n          53.0,\n          42.0\n        ],\n        \"semantic_type\": \"\",\n        \"description\": \"\"\n      }\n    },\n    {\n      \"column\": \"class\",\n      \"properties\": {\n        \"dtype\": \"category\",\n        \"num_unique_values\": 7,\n        \"samples\": [\n          \"3rd\",\n          \"2nd\"\n        ],\n        \"semantic_type\": \"\",\n        \"description\": \"\"\n      }\n    },\n    {\n      \"column\": \"embarked\",\n      \"properties\": {\n        \"dtype\": \"category\",\n        \"num_unique_values\": 4,\n        \"samples\": [\n          \"C\",\n          \"Q\"\n        ],\n        \"semantic_type\": \"\",\n        \"description\": \"\"\n      }\n    },\n    {\n      \"column\": \"country\",\n      \"properties\": {\n        \"dtype\": \"category\",\n        \"num_unique_values\": 48,\n        \"samples\": [\n          \"Australia\",\n          \"Yugoslavia\"\n        ],\n        \"semantic_type\": \"\",\n        \"description\": \"\"\n      }\n    },\n    {\n      \"column\": \"ticketno\",\n      \"properties\": {\n        \"dtype\": \"number\",\n        \"std\": 633472.6126198585,\n        \"min\": 2.0,\n        \"max\": 3101317.0,\n        \"num_unique_values\": 924,\n        \"samples\": [\n          17593.0,\n          11668.0\n        ],\n        \"semantic_type\": \"\",\n        \"description\": \"\"\n      }\n    },\n    {\n      \"column\": \"fare\",\n      \"properties\": {\n        \"dtype\": \"number\",\n        \"std\": 52.227591830129704,\n        \"min\": 3.0305,\n        \"max\": 512.0607,\n        \"num_unique_values\": 276,\n        \"samples\": [\n          31.0709,\n          15.02\n        ],\n        \"semantic_type\": \"\",\n        \"description\": \"\"\n      }\n    },\n    {\n      \"column\": \"survived\",\n      \"properties\": {\n        \"dtype\": \"number\",\n        \"std\": 0,\n        \"min\": 0,\n        \"max\": 1,\n        \"num_unique_values\": 2,\n        \"samples\": [\n          1,\n          0\n        ],\n        \"semantic_type\": \"\",\n        \"description\": \"\"\n      }\n    }\n  ]\n}"
            }
          },
          "metadata": {},
          "execution_count": 3
        }
      ]
    },
    {
      "cell_type": "markdown",
      "metadata": {
        "id": "x3zYKBXa5kCa"
      },
      "source": [
        "# Simple Analyses of Quantitative Variables\n",
        "\n",
        "We begin by discussing ways to summarize and visualize a single quantitative variable.\n",
        "\n",
        "If a column in a `pandas` `DataFrame` has a numeric type, such as `int64` or `float64`, then the `.describe()` method will automatically produce many of the summaries discussed in this lesson."
      ]
    },
    {
      "cell_type": "code",
      "metadata": {
        "id": "jT4lvWsXs2Wh",
        "colab": {
          "base_uri": "https://localhost:8080/",
          "height": 335
        },
        "outputId": "e2b6bf07-293a-4f62-9507-9a63916067b1"
      },
      "source": [
        "df_titanic[\"age\"].describe()"
      ],
      "execution_count": 3,
      "outputs": [
        {
          "output_type": "execute_result",
          "data": {
            "text/plain": [
              "count    2205.000000\n",
              "mean       30.436735\n",
              "std        12.159677\n",
              "min         0.166667\n",
              "25%        22.000000\n",
              "50%        29.000000\n",
              "75%        38.000000\n",
              "max        74.000000\n",
              "Name: age, dtype: float64"
            ],
            "text/html": [
              "<div>\n",
              "<style scoped>\n",
              "    .dataframe tbody tr th:only-of-type {\n",
              "        vertical-align: middle;\n",
              "    }\n",
              "\n",
              "    .dataframe tbody tr th {\n",
              "        vertical-align: top;\n",
              "    }\n",
              "\n",
              "    .dataframe thead th {\n",
              "        text-align: right;\n",
              "    }\n",
              "</style>\n",
              "<table border=\"1\" class=\"dataframe\">\n",
              "  <thead>\n",
              "    <tr style=\"text-align: right;\">\n",
              "      <th></th>\n",
              "      <th>age</th>\n",
              "    </tr>\n",
              "  </thead>\n",
              "  <tbody>\n",
              "    <tr>\n",
              "      <th>count</th>\n",
              "      <td>2205.000000</td>\n",
              "    </tr>\n",
              "    <tr>\n",
              "      <th>mean</th>\n",
              "      <td>30.436735</td>\n",
              "    </tr>\n",
              "    <tr>\n",
              "      <th>std</th>\n",
              "      <td>12.159677</td>\n",
              "    </tr>\n",
              "    <tr>\n",
              "      <th>min</th>\n",
              "      <td>0.166667</td>\n",
              "    </tr>\n",
              "    <tr>\n",
              "      <th>25%</th>\n",
              "      <td>22.000000</td>\n",
              "    </tr>\n",
              "    <tr>\n",
              "      <th>50%</th>\n",
              "      <td>29.000000</td>\n",
              "    </tr>\n",
              "    <tr>\n",
              "      <th>75%</th>\n",
              "      <td>38.000000</td>\n",
              "    </tr>\n",
              "    <tr>\n",
              "      <th>max</th>\n",
              "      <td>74.000000</td>\n",
              "    </tr>\n",
              "  </tbody>\n",
              "</table>\n",
              "</div><br><label><b>dtype:</b> float64</label>"
            ]
          },
          "metadata": {},
          "execution_count": 3
        }
      ]
    },
    {
      "cell_type": "markdown",
      "metadata": {
        "id": "iLLCp6QB7cM-"
      },
      "source": [
        "## Summarizing a Quantitative Variable"
      ]
    },
    {
      "cell_type": "markdown",
      "metadata": {
        "id": "Ia9HDuVH7lC4"
      },
      "source": [
        "What statistics should we use to summarize a quantitative variable? The most salient features of a quantitative variable are its center and spread."
      ]
    },
    {
      "cell_type": "markdown",
      "metadata": {
        "id": "Z4yNNG7m87M0"
      },
      "source": [
        "### Measures of Center\n",
        "\n",
        "Some statistics measure the _center_ of a variable. Two commonly used measures of the center are:\n",
        "\n",
        "- the _mean_ (a.k.a. average): the sum of the values divided by the count. If the values are represented by the variables $x_1, x_2, ..., x_n$, then the mean $\\bar x$ is defined as\n",
        "$$ \\bar x = \\frac{1}{n} \\sum_{i=1}^n x_i. $$\n",
        "- the _median_: the middle value when you sort the values (i.e., a value such that 50% of the values lie below and 50% of the values lie above)\n",
        "\n",
        "A measure of center gives us information about the \"typical\" value of a variable. For example, you might not know whether a typical fare on the Titanic was £1, £10, or £100. But if we calculate the mean:"
      ]
    },
    {
      "cell_type": "code",
      "metadata": {
        "id": "DVxaWPJW7RhY",
        "colab": {
          "base_uri": "https://localhost:8080/"
        },
        "outputId": "391c1f7a-031e-481f-f74a-7355437be3ea"
      },
      "source": [
        "df_titanic.fare.mean()"
      ],
      "execution_count": 2,
      "outputs": [
        {
          "output_type": "execute_result",
          "data": {
            "text/plain": [
              "33.40476049573974"
            ]
          },
          "metadata": {},
          "execution_count": 2
        }
      ]
    },
    {
      "cell_type": "markdown",
      "metadata": {
        "id": "TdhrHvIQ7rm1"
      },
      "source": [
        "we see that a typical fare is around £30.\n",
        "\n",
        "Let's see what the median says about the \"typical\" fare:"
      ]
    },
    {
      "cell_type": "code",
      "metadata": {
        "id": "TQ6AeOgD7pPW",
        "colab": {
          "base_uri": "https://localhost:8080/"
        },
        "outputId": "4e7f29f3-d5ab-4a59-e4fe-6a9d10ba3c99"
      },
      "source": [
        "df_titanic.fare.median()"
      ],
      "execution_count": 6,
      "outputs": [
        {
          "output_type": "execute_result",
          "data": {
            "text/plain": [
              "14.0902"
            ]
          },
          "metadata": {},
          "execution_count": 6
        }
      ]
    },
    {
      "cell_type": "markdown",
      "metadata": {
        "id": "q2XTiUAt7u3z"
      },
      "source": [
        "The median is quite different from the mean! It says that about 50% of the passengers paid less than £15 and about 50% paid more, so another reasonable value for the \"typical\" fare is £15.\n",
        "\n",
        "The mean was twice the median! What explains this discrepancy? The reason is that the mean is very sensitive to extreme values. To see this, let's look at the highest fare that any passenger paid."
      ]
    },
    {
      "cell_type": "code",
      "metadata": {
        "id": "-lFaz7Ej7xqy",
        "colab": {
          "base_uri": "https://localhost:8080/"
        },
        "outputId": "c76c70c2-6f26-4a9f-a0e8-9a40a1e9f52c"
      },
      "source": [
        "df_titanic.fare.max()"
      ],
      "execution_count": 3,
      "outputs": [
        {
          "output_type": "execute_result",
          "data": {
            "text/plain": [
              "512.0607"
            ]
          },
          "metadata": {},
          "execution_count": 3
        }
      ]
    },
    {
      "cell_type": "markdown",
      "metadata": {
        "id": "qWefRPRb71lE"
      },
      "source": [
        "The highest fare paid was over £500! Even if most passengers paid less than £15, extreme values like this one will pull the mean upward. On the other hand, since the median is always the middle value, it is not affected by the extreme values, as long as the ordering of the values does not change.\n",
        "\n",
        "To drive this point home, let's see what would happen to the mean and median if that maximum fare were (hypothetically) £10,000."
      ]
    },
    {
      "cell_type": "code",
      "metadata": {
        "id": "HMPoHx5f7_UW",
        "colab": {
          "base_uri": "https://localhost:8080/"
        },
        "outputId": "ff28cebf-7978-4c20-df2d-746752dc7002"
      },
      "source": [
        "fare_10k = df_titanic.fare.replace(df_titanic.fare.max(), 10000)\n",
        "fare_10k.mean(), fare_10k.median()"
      ],
      "execution_count": 4,
      "outputs": [
        {
          "output_type": "execute_result",
          "data": {
            "text/plain": [
              "(62.80193880712625, 14.0902)"
            ]
          },
          "metadata": {},
          "execution_count": 4
        }
      ]
    },
    {
      "cell_type": "markdown",
      "metadata": {
        "id": "puOZBFQi7_5i"
      },
      "source": [
        "Notice how the mean now increases to over £60, but the median is unaffected."
      ]
    },
    {
      "cell_type": "markdown",
      "metadata": {
        "id": "KJRyasay8QDA"
      },
      "source": [
        "Just to satisfy our curiosity, let's learn more about this passenger who paid the maximum fare. To do this, we have to find the row that achieved this maximum value. Fortunately, there is a convenient `pandas` function, `.idxmax()`, that returns the _row index_ of the maximum fare. (A mathematician might call this the [\"arg max\"](https://en.wikipedia.org/wiki/Arg_max).)"
      ]
    },
    {
      "cell_type": "code",
      "metadata": {
        "id": "DbIS0XDv8T6P",
        "colab": {
          "base_uri": "https://localhost:8080/"
        },
        "outputId": "33dba57e-27cc-47b3-bdb8-15e42d78b140"
      },
      "source": [
        "df_titanic.fare.idxmax()"
      ],
      "execution_count": 5,
      "outputs": [
        {
          "output_type": "execute_result",
          "data": {
            "text/plain": [
              "197"
            ]
          },
          "metadata": {},
          "execution_count": 5
        }
      ]
    },
    {
      "cell_type": "markdown",
      "metadata": {
        "id": "B0toi2l38W-4"
      },
      "source": [
        "Now we can select the row corresponding to this index using `.loc`, as we learned in the previous section."
      ]
    },
    {
      "cell_type": "code",
      "metadata": {
        "id": "DpiNlLsj8bhT",
        "colab": {
          "base_uri": "https://localhost:8080/",
          "height": 366
        },
        "outputId": "fbd0ceca-eaad-471d-ce94-a01f4db78ff9"
      },
      "source": [
        "df_titanic.loc[df_titanic.fare.idxmax()]"
      ],
      "execution_count": 6,
      "outputs": [
        {
          "output_type": "execute_result",
          "data": {
            "text/plain": [
              "name        Cardeza, Mrs. Charlotte Wardle\n",
              "gender                              female\n",
              "age                                   58.0\n",
              "class                                  1st\n",
              "embarked                                 C\n",
              "country                      United States\n",
              "ticketno                           17755.0\n",
              "fare                              512.0607\n",
              "survived                                 1\n",
              "Name: 197, dtype: object"
            ],
            "text/html": [
              "<div>\n",
              "<style scoped>\n",
              "    .dataframe tbody tr th:only-of-type {\n",
              "        vertical-align: middle;\n",
              "    }\n",
              "\n",
              "    .dataframe tbody tr th {\n",
              "        vertical-align: top;\n",
              "    }\n",
              "\n",
              "    .dataframe thead th {\n",
              "        text-align: right;\n",
              "    }\n",
              "</style>\n",
              "<table border=\"1\" class=\"dataframe\">\n",
              "  <thead>\n",
              "    <tr style=\"text-align: right;\">\n",
              "      <th></th>\n",
              "      <th>197</th>\n",
              "    </tr>\n",
              "  </thead>\n",
              "  <tbody>\n",
              "    <tr>\n",
              "      <th>name</th>\n",
              "      <td>Cardeza, Mrs. Charlotte Wardle</td>\n",
              "    </tr>\n",
              "    <tr>\n",
              "      <th>gender</th>\n",
              "      <td>female</td>\n",
              "    </tr>\n",
              "    <tr>\n",
              "      <th>age</th>\n",
              "      <td>58.0</td>\n",
              "    </tr>\n",
              "    <tr>\n",
              "      <th>class</th>\n",
              "      <td>1st</td>\n",
              "    </tr>\n",
              "    <tr>\n",
              "      <th>embarked</th>\n",
              "      <td>C</td>\n",
              "    </tr>\n",
              "    <tr>\n",
              "      <th>country</th>\n",
              "      <td>United States</td>\n",
              "    </tr>\n",
              "    <tr>\n",
              "      <th>ticketno</th>\n",
              "      <td>17755.0</td>\n",
              "    </tr>\n",
              "    <tr>\n",
              "      <th>fare</th>\n",
              "      <td>512.0607</td>\n",
              "    </tr>\n",
              "    <tr>\n",
              "      <th>survived</th>\n",
              "      <td>1</td>\n",
              "    </tr>\n",
              "  </tbody>\n",
              "</table>\n",
              "</div><br><label><b>dtype:</b> object</label>"
            ]
          },
          "metadata": {},
          "execution_count": 6
        }
      ]
    },
    {
      "cell_type": "markdown",
      "metadata": {
        "id": "Knx5kR628dL3"
      },
      "source": [
        "The median is a number below which 50% of the values fall. What if we want to know some other percentile? We can use the `.quantile()` function, which takes a percentile rank (between 0 and 1) as input and returns the corresponding percentile.\n",
        "\n",
        "For example, the 75th percentile is:"
      ]
    },
    {
      "cell_type": "code",
      "metadata": {
        "id": "SPRGkg2o8jof",
        "colab": {
          "base_uri": "https://localhost:8080/"
        },
        "outputId": "8ee8f19d-9bc3-4595-8a82-a0ab69159fba"
      },
      "source": [
        "df_titanic.fare.quantile(.75)"
      ],
      "execution_count": 7,
      "outputs": [
        {
          "output_type": "execute_result",
          "data": {
            "text/plain": [
              "31.06075"
            ]
          },
          "metadata": {},
          "execution_count": 7
        }
      ]
    },
    {
      "cell_type": "markdown",
      "metadata": {
        "id": "rRwsIzT-8lPn"
      },
      "source": [
        "which is pretty close to the mean. So only about 25% of the passengers paid more than the mean! The mean is not a great measure of center when there are extreme values, as in this data set."
      ]
    },
    {
      "cell_type": "markdown",
      "metadata": {
        "id": "uSTOdrPO8pd9"
      },
      "source": [
        "To summarize, we have encountered several `pandas` functions that can be used to summarize a quantitative variable:\n",
        "\n",
        "- `.mean()` calculates the mean or average.\n",
        "- `.median()` calculates the median.\n",
        "- `.quantile(q)` returns a value such that a fraction `q` of the values fall below that value (in other words, the (100q)th percentile).\n",
        "- `.max()` calculates the maximum value.\n",
        "- `.idxmax()` returns the index of the row with the maximum value. If there are multiple rows that achieve this value, then it will only return the index of the first occurrence.\n",
        "\n",
        "The corresponding functions for the _minimum_ value exist as well:\n",
        "\n",
        "- `.min()` calculates the minimum value.\n",
        "- `.idxmin()` returns the index of the row with the minimum value. If there are multiple rows that achieve this value, then it will only return the index of the first occurrence."
      ]
    },
    {
      "cell_type": "code",
      "metadata": {
        "id": "GT2EqnHC8sUH",
        "colab": {
          "base_uri": "https://localhost:8080/"
        },
        "outputId": "fbe7b109-8b5e-49e6-836b-b89c35d03904"
      },
      "source": [
        "df_titanic.fare.min()"
      ],
      "execution_count": 8,
      "outputs": [
        {
          "output_type": "execute_result",
          "data": {
            "text/plain": [
              "3.0305"
            ]
          },
          "metadata": {},
          "execution_count": 8
        }
      ]
    },
    {
      "cell_type": "markdown",
      "metadata": {
        "id": "aurIyQ2v8xBB"
      },
      "source": [
        "Some passengers boarded the Titanic for free, apparently."
      ]
    },
    {
      "cell_type": "markdown",
      "metadata": {
        "id": "1fQpqJu68-0C"
      },
      "source": [
        "### Measures of Spread\n",
        "\n",
        "The center of a quantitative variable only tells part of the story. For one, it tells us nothing about how spread out the values are. Therefore, it is important to also report a measure of _spread_. The measures of spread that we will explore in this section are:\n",
        "- mean absolute deviation\n",
        "- variance\n",
        "- standard deviation"
      ]
    },
    {
      "cell_type": "markdown",
      "metadata": {
        "id": "B1N-a1vB80hu"
      },
      "source": [
        "\n",
        "\n",
        "Let's investigate a few measures of spread that are built into `pandas`. For completeness, the formulas for these statistics are provided, where $x_1, ..., x_n$ represent the values and $\\bar x$ their mean. But the intuition is more important to understand than the formulas.\n",
        "\n",
        "The first statistic that might come to mind is the _mean absolute deviation_, or _MAD_. To calculate the MAD, we first calculate the difference between each observation and the mean. Values below the mean will have a negative difference, while values above the mean will have a positive difference. We don't want the negative differences to cancel out the positive differences, since _all_ of them contribute to the spread. So we take the absolute value of all the differences and then average.\n",
        "\n",
        "$$\n",
        "\\begin{align*}\n",
        "\\textrm{MAD} &= \\textrm{mean of } |x_i - \\bar x| \\\\\n",
        "&= \\frac{1}{n} \\sum_{i=1}^n |x_i - \\bar x|\n",
        "\\end{align*}\n",
        "$$\n",
        "\n",
        "We can implement the MAD ourselves using the `.mean()` and `.abs()` functions."
      ]
    },
    {
      "cell_type": "code",
      "metadata": {
        "id": "BmLAAQKq9Nwz",
        "colab": {
          "base_uri": "https://localhost:8080/",
          "height": 459
        },
        "outputId": "1a476122-9fa8-4df1-cec7-4ffccd47e3d7"
      },
      "source": [
        "# STEP 1: Calculate the difference between each fare and the mean.\n",
        "(df_titanic.fare - df_titanic.fare.mean())"
      ],
      "execution_count": 4,
      "outputs": [
        {
          "output_type": "execute_result",
          "data": {
            "text/plain": [
              "0      -26.29476\n",
              "1      -13.35476\n",
              "2      -13.35476\n",
              "3      -13.35476\n",
              "4      -26.27476\n",
              "          ...   \n",
              "2202         NaN\n",
              "2203         NaN\n",
              "2204         NaN\n",
              "2205         NaN\n",
              "2206         NaN\n",
              "Name: fare, Length: 2207, dtype: float64"
            ],
            "text/html": [
              "<div>\n",
              "<style scoped>\n",
              "    .dataframe tbody tr th:only-of-type {\n",
              "        vertical-align: middle;\n",
              "    }\n",
              "\n",
              "    .dataframe tbody tr th {\n",
              "        vertical-align: top;\n",
              "    }\n",
              "\n",
              "    .dataframe thead th {\n",
              "        text-align: right;\n",
              "    }\n",
              "</style>\n",
              "<table border=\"1\" class=\"dataframe\">\n",
              "  <thead>\n",
              "    <tr style=\"text-align: right;\">\n",
              "      <th></th>\n",
              "      <th>fare</th>\n",
              "    </tr>\n",
              "  </thead>\n",
              "  <tbody>\n",
              "    <tr>\n",
              "      <th>0</th>\n",
              "      <td>-26.29476</td>\n",
              "    </tr>\n",
              "    <tr>\n",
              "      <th>1</th>\n",
              "      <td>-13.35476</td>\n",
              "    </tr>\n",
              "    <tr>\n",
              "      <th>2</th>\n",
              "      <td>-13.35476</td>\n",
              "    </tr>\n",
              "    <tr>\n",
              "      <th>3</th>\n",
              "      <td>-13.35476</td>\n",
              "    </tr>\n",
              "    <tr>\n",
              "      <th>4</th>\n",
              "      <td>-26.27476</td>\n",
              "    </tr>\n",
              "    <tr>\n",
              "      <th>...</th>\n",
              "      <td>...</td>\n",
              "    </tr>\n",
              "    <tr>\n",
              "      <th>2202</th>\n",
              "      <td>NaN</td>\n",
              "    </tr>\n",
              "    <tr>\n",
              "      <th>2203</th>\n",
              "      <td>NaN</td>\n",
              "    </tr>\n",
              "    <tr>\n",
              "      <th>2204</th>\n",
              "      <td>NaN</td>\n",
              "    </tr>\n",
              "    <tr>\n",
              "      <th>2205</th>\n",
              "      <td>NaN</td>\n",
              "    </tr>\n",
              "    <tr>\n",
              "      <th>2206</th>\n",
              "      <td>NaN</td>\n",
              "    </tr>\n",
              "  </tbody>\n",
              "</table>\n",
              "<p>2207 rows × 1 columns</p>\n",
              "</div><br><label><b>dtype:</b> float64</label>"
            ]
          },
          "metadata": {},
          "execution_count": 4
        }
      ]
    },
    {
      "cell_type": "code",
      "metadata": {
        "id": "KZ-_BdsM9S9O",
        "colab": {
          "base_uri": "https://localhost:8080/",
          "height": 459
        },
        "outputId": "4abcada0-3182-46e4-8bab-f10a0a8c727b"
      },
      "source": [
        "# STEP 2: Calculate the absolute value of each difference.\n",
        "(df_titanic.fare - df_titanic.fare.mean()).abs()"
      ],
      "execution_count": 5,
      "outputs": [
        {
          "output_type": "execute_result",
          "data": {
            "text/plain": [
              "0       26.29476\n",
              "1       13.35476\n",
              "2       13.35476\n",
              "3       13.35476\n",
              "4       26.27476\n",
              "          ...   \n",
              "2202         NaN\n",
              "2203         NaN\n",
              "2204         NaN\n",
              "2205         NaN\n",
              "2206         NaN\n",
              "Name: fare, Length: 2207, dtype: float64"
            ],
            "text/html": [
              "<div>\n",
              "<style scoped>\n",
              "    .dataframe tbody tr th:only-of-type {\n",
              "        vertical-align: middle;\n",
              "    }\n",
              "\n",
              "    .dataframe tbody tr th {\n",
              "        vertical-align: top;\n",
              "    }\n",
              "\n",
              "    .dataframe thead th {\n",
              "        text-align: right;\n",
              "    }\n",
              "</style>\n",
              "<table border=\"1\" class=\"dataframe\">\n",
              "  <thead>\n",
              "    <tr style=\"text-align: right;\">\n",
              "      <th></th>\n",
              "      <th>fare</th>\n",
              "    </tr>\n",
              "  </thead>\n",
              "  <tbody>\n",
              "    <tr>\n",
              "      <th>0</th>\n",
              "      <td>26.29476</td>\n",
              "    </tr>\n",
              "    <tr>\n",
              "      <th>1</th>\n",
              "      <td>13.35476</td>\n",
              "    </tr>\n",
              "    <tr>\n",
              "      <th>2</th>\n",
              "      <td>13.35476</td>\n",
              "    </tr>\n",
              "    <tr>\n",
              "      <th>3</th>\n",
              "      <td>13.35476</td>\n",
              "    </tr>\n",
              "    <tr>\n",
              "      <th>4</th>\n",
              "      <td>26.27476</td>\n",
              "    </tr>\n",
              "    <tr>\n",
              "      <th>...</th>\n",
              "      <td>...</td>\n",
              "    </tr>\n",
              "    <tr>\n",
              "      <th>2202</th>\n",
              "      <td>NaN</td>\n",
              "    </tr>\n",
              "    <tr>\n",
              "      <th>2203</th>\n",
              "      <td>NaN</td>\n",
              "    </tr>\n",
              "    <tr>\n",
              "      <th>2204</th>\n",
              "      <td>NaN</td>\n",
              "    </tr>\n",
              "    <tr>\n",
              "      <th>2205</th>\n",
              "      <td>NaN</td>\n",
              "    </tr>\n",
              "    <tr>\n",
              "      <th>2206</th>\n",
              "      <td>NaN</td>\n",
              "    </tr>\n",
              "  </tbody>\n",
              "</table>\n",
              "<p>2207 rows × 1 columns</p>\n",
              "</div><br><label><b>dtype:</b> float64</label>"
            ]
          },
          "metadata": {},
          "execution_count": 5
        }
      ]
    },
    {
      "cell_type": "code",
      "metadata": {
        "id": "32Bx2FIK9U_d",
        "colab": {
          "base_uri": "https://localhost:8080/"
        },
        "outputId": "0ed88016-ac2a-4a66-b254-198ce864d384"
      },
      "source": [
        "# STEP 3: Take the mean of these absolute differences.\n",
        "(df_titanic.fare - df_titanic.fare.mean()).abs().mean()"
      ],
      "execution_count": 6,
      "outputs": [
        {
          "output_type": "execute_result",
          "data": {
            "text/plain": [
              "30.053517846306516"
            ]
          },
          "metadata": {},
          "execution_count": 6
        }
      ]
    },
    {
      "cell_type": "markdown",
      "metadata": {
        "id": "6ep5Vska9cMd"
      },
      "source": [
        "Notice that in Step 1, we subtracted a single number (`df_titanic.fare.mean()`) from a `pandas` `Series` (`df_titanic.fare`). `pandas`  automatically _broadcasted_ the subtraction over each number in the `Series`.\n",
        "\n",
        "The `.abs()` function in Step 2 is an example of a _vectorized_ function. The absolute value function is applied to each element of the `Series`."
      ]
    },
    {
      "cell_type": "markdown",
      "metadata": {
        "id": "eOG7qaXL-ApP"
      },
      "source": [
        "The MAD is actually built into `pandas`, so there really is no reason to implement it from scratch, as we did above. Let's check that we get the same answer when we call the built-in function."
      ]
    },
    {
      "cell_type": "code",
      "metadata": {
        "id": "s6xoX1ra91IZ",
        "colab": {
          "base_uri": "https://localhost:8080/",
          "height": 276
        },
        "outputId": "1d6b0b1d-175f-433c-eccd-871a0f230475"
      },
      "source": [
        "df_titanic.fare.mad()"
      ],
      "execution_count": 8,
      "outputs": [
        {
          "output_type": "error",
          "ename": "AttributeError",
          "evalue": "'Series' object has no attribute 'mad'",
          "traceback": [
            "\u001b[0;31m---------------------------------------------------------------------------\u001b[0m",
            "\u001b[0;31mAttributeError\u001b[0m                            Traceback (most recent call last)",
            "\u001b[0;32m<ipython-input-8-521b0b990e0e>\u001b[0m in \u001b[0;36m<cell line: 0>\u001b[0;34m()\u001b[0m\n\u001b[0;32m----> 1\u001b[0;31m \u001b[0mdf_titanic\u001b[0m\u001b[0;34m.\u001b[0m\u001b[0mfare\u001b[0m\u001b[0;34m.\u001b[0m\u001b[0mmad\u001b[0m\u001b[0;34m(\u001b[0m\u001b[0;34m)\u001b[0m\u001b[0;34m\u001b[0m\u001b[0;34m\u001b[0m\u001b[0m\n\u001b[0m",
            "\u001b[0;32m/usr/local/lib/python3.11/dist-packages/pandas/core/generic.py\u001b[0m in \u001b[0;36m__getattr__\u001b[0;34m(self, name)\u001b[0m\n\u001b[1;32m   6297\u001b[0m         ):\n\u001b[1;32m   6298\u001b[0m             \u001b[0;32mreturn\u001b[0m \u001b[0mself\u001b[0m\u001b[0;34m[\u001b[0m\u001b[0mname\u001b[0m\u001b[0;34m]\u001b[0m\u001b[0;34m\u001b[0m\u001b[0;34m\u001b[0m\u001b[0m\n\u001b[0;32m-> 6299\u001b[0;31m         \u001b[0;32mreturn\u001b[0m \u001b[0mobject\u001b[0m\u001b[0;34m.\u001b[0m\u001b[0m__getattribute__\u001b[0m\u001b[0;34m(\u001b[0m\u001b[0mself\u001b[0m\u001b[0;34m,\u001b[0m \u001b[0mname\u001b[0m\u001b[0;34m)\u001b[0m\u001b[0;34m\u001b[0m\u001b[0;34m\u001b[0m\u001b[0m\n\u001b[0m\u001b[1;32m   6300\u001b[0m \u001b[0;34m\u001b[0m\u001b[0m\n\u001b[1;32m   6301\u001b[0m     \u001b[0;34m@\u001b[0m\u001b[0mfinal\u001b[0m\u001b[0;34m\u001b[0m\u001b[0;34m\u001b[0m\u001b[0m\n",
            "\u001b[0;31mAttributeError\u001b[0m: 'Series' object has no attribute 'mad'"
          ]
        }
      ]
    },
    {
      "cell_type": "markdown",
      "metadata": {
        "id": "97d54PV1-LlV"
      },
      "source": [
        "Since the MAD is a mean of the absolute differences and the mean represents the \"typical\" value, we can interpret the MAD as saying that the \"typical\" fare is about £30 away from the average."
      ]
    },
    {
      "cell_type": "markdown",
      "metadata": {
        "id": "wgBkWtLB-PBC"
      },
      "source": [
        "A different way to ensure that the negative and positive differences don't cancel is to square all the differences before averaging. This leads to the definition of _variance_.\n",
        "\n",
        "\\begin{align}\n",
        "\\textrm{Variance} &= \\textrm{mean of } (x_i - \\bar x)^2 \\\\\n",
        "&= \\frac{1}{n} \\sum_{i=1}^n (x_i - \\bar x)^2\n",
        "\\end{align}\n",
        "\n",
        "We can implement the variance ourselves. Again, notice how the subtraction and the power operations are broadcast over the elements of the `Series`."
      ]
    },
    {
      "cell_type": "code",
      "metadata": {
        "id": "uZLqmhIL-IiK",
        "colab": {
          "base_uri": "https://localhost:8080/"
        },
        "outputId": "01094872-0136-4cee-be7f-d8684599321e"
      },
      "source": [
        "((df_titanic.fare - df_titanic.fare.mean()) ** 2).mean()"
      ],
      "execution_count": 11,
      "outputs": [
        {
          "output_type": "execute_result",
          "data": {
            "text/plain": [
              "2725.6084735888962"
            ]
          },
          "metadata": {},
          "execution_count": 11
        }
      ]
    },
    {
      "cell_type": "markdown",
      "metadata": {
        "id": "guGpqpIm-xvA"
      },
      "source": [
        "Alternatively, we can simply call the `.var()` function in `pandas`."
      ]
    },
    {
      "cell_type": "code",
      "metadata": {
        "id": "0esz7NKm-3By",
        "colab": {
          "base_uri": "https://localhost:8080/"
        },
        "outputId": "357433ef-12a9-4d3b-f46d-f7914568f219"
      },
      "source": [
        "df_titanic.fare.var()"
      ],
      "execution_count": 12,
      "outputs": [
        {
          "output_type": "execute_result",
          "data": {
            "text/plain": [
              "2727.7213483746314"
            ]
          },
          "metadata": {},
          "execution_count": 12
        }
      ]
    },
    {
      "cell_type": "markdown",
      "metadata": {
        "id": "DfWU9sAs-8Qp"
      },
      "source": [
        "You might be surprised that `.var()` produced a slightly different number. This is because `pandas` divided by $n-1$ (rather than $n$) in calculating the mean of the squared differences. That is, the default variance formula that `pandas` uses is\n",
        "\n",
        "$$\\text{Variance} = \\frac{1}{n-1} \\sum_{i=1}^n (x_i - \\bar x)^2.$$\n",
        "\n",
        "To force Pandas to divide by $n$, you can set `ddof=0`."
      ]
    },
    {
      "cell_type": "code",
      "metadata": {
        "id": "PP4vo7rG-5Cc"
      },
      "source": [
        "df_titanic.fare.var(ddof=0)"
      ],
      "execution_count": null,
      "outputs": []
    },
    {
      "cell_type": "markdown",
      "metadata": {
        "id": "da0FZEro_TEs"
      },
      "source": [
        "The trouble with variance is that its units are wrong. If the original values $x_1, ..., x_n$ are in £, the variance would be in squared £. This is obvious if you simply look at the magnitude of the variance in the example above; the variance is in the _thousands_, even though the largest fare is just over £500.  To correct the units of variance, we take the square root to obtain a more interpretable measure of spread, called the _standard deviation_:\n",
        "\n",
        "$$\\textrm{SD} = \\sqrt{\\textrm{Variance}}.$$"
      ]
    },
    {
      "cell_type": "code",
      "metadata": {
        "id": "4ztL8PsK_F8D",
        "colab": {
          "base_uri": "https://localhost:8080/"
        },
        "outputId": "5a7b92a6-e87c-4d1d-9acd-cdb187f3a3dd"
      },
      "source": [
        "df_titanic.fare.std()"
      ],
      "execution_count": 14,
      "outputs": [
        {
          "output_type": "execute_result",
          "data": {
            "text/plain": [
              "52.227591830129704"
            ]
          },
          "metadata": {},
          "execution_count": 14
        }
      ]
    },
    {
      "cell_type": "markdown",
      "metadata": {
        "id": "03_759No_Xzg"
      },
      "source": [
        "This standard deviation has a clean interpretation: the \"typical\" fare is about £50 away from the average."
      ]
    },
    {
      "cell_type": "markdown",
      "metadata": {
        "id": "DmcnNi3A_cos"
      },
      "source": [
        "The standard deviation is the most widely used measure of spread, more common than the MAD. At first, this might seem odd. To calculate the standard deviation, we squared the differences from the mean, only to take a square root in the end. Why bother with this rigmarole, when we could just calculate absolute values instead?\n",
        "\n",
        "The reasons for preferring the standard deviation are complicated. But the short answer is that the variance (i.e., the square of the standard deviation) is much nicer mathematically. If you know calculus, you might remember that the absolute value function does not have a derivative at 0. Therefore, the MAD is not _differentiable_, which makes it inconvenient mathematically. That doesn't necessarily mean that it's any worse as a measure of spread."
      ]
    },
    {
      "cell_type": "markdown",
      "metadata": {
        "id": "DotU6BF4_3ij"
      },
      "source": [
        "## Visualizing a Quantitative Variable\n",
        "\n",
        "Graphics can help us understand how the values of a quantitative variable are distributed. We will study two types of visualizations for quantitative variables: histograms and densities."
      ]
    },
    {
      "cell_type": "markdown",
      "metadata": {
        "id": "MxcFa2EHAJCi"
      },
      "source": [
        "### Histograms\n",
        "\n",
        "The standard visualization for a single quantitative variable is the _histogram_. A histogram sorts the values into bins and uses bars to represent the number of values in each bin.\n",
        "\n",
        "To make a histogram, we call the `.plot.hist()` method of the selected variable."
      ]
    },
    {
      "cell_type": "code",
      "metadata": {
        "id": "GLkYl-eI_peO",
        "colab": {
          "base_uri": "https://localhost:8080/",
          "height": 448
        },
        "outputId": "2acdea87-0333-4ded-b81c-a6c9f4d5297d"
      },
      "source": [
        "df_titanic.fare.plot.hist()"
      ],
      "execution_count": 15,
      "outputs": [
        {
          "output_type": "execute_result",
          "data": {
            "text/plain": [
              "<Axes: ylabel='Frequency'>"
            ]
          },
          "metadata": {},
          "execution_count": 15
        },
        {
          "output_type": "display_data",
          "data": {
            "text/plain": [
              "<Figure size 640x480 with 1 Axes>"
            ],
            "image/png": "[encoded data removed]"
          },
          "metadata": {}
        }
      ]
    },
    {
      "cell_type": "markdown",
      "metadata": {
        "id": "_yVtBO1WAW7l"
      },
      "source": [
        "It seems that we did not get enough resolution to really determine what is going on at the lower end of the scale. Let's ask for more bins."
      ]
    },
    {
      "cell_type": "code",
      "metadata": {
        "id": "AzP5uZDSAT1Q",
        "colab": {
          "base_uri": "https://localhost:8080/",
          "height": 448
        },
        "outputId": "b522e8c1-6f8b-4858-fec0-918c6a2362d4"
      },
      "source": [
        "df_titanic.fare.plot.hist(bins=50)"
      ],
      "execution_count": 16,
      "outputs": [
        {
          "output_type": "execute_result",
          "data": {
            "text/plain": [
              "<Axes: ylabel='Frequency'>"
            ]
          },
          "metadata": {},
          "execution_count": 16
        },
        {
          "output_type": "display_data",
          "data": {
            "text/plain": [
              "<Figure size 640x480 with 1 Axes>"
            ],
            "image/png": "[encoded data removed]"
          },
          "metadata": {}
        }
      ]
    },
    {
      "cell_type": "markdown",
      "metadata": {
        "id": "eTpx8Rs2Ajne"
      },
      "source": [
        "From this graph, we see a concentration of values around 10-30 (which we previously identified as the \"center\") and a spread of about 30-50 (which we previously identified as the \"spread\"). We also see the outlier who paid more than £500. We also see features that were not obvious before: the skewed shape of the distribution, the gap between £300 and £500, and so on. This single picture has managed to convey more information than a dozen summary statistics."
      ]
    },
    {
      "cell_type": "markdown",
      "metadata": {
        "id": "rJOC6_S7AofJ"
      },
      "source": [
        "We might want to plot multiple histograms on the same graphic to make for easy comparison. To do this, we simply make multiple calls to plotting functions within the same cell. For example, if we wanted to compare the distributions of the ages of 1st class and 3rd class passengers, we could call `.plot.hist()` twice."
      ]
    },
    {
      "cell_type": "code",
      "metadata": {
        "id": "gpYiV61lAbYP",
        "colab": {
          "base_uri": "https://localhost:8080/",
          "height": 448
        },
        "outputId": "b9c43438-4cfb-41bd-8b7d-fda5fc711675"
      },
      "source": [
        "df_titanic[df_titanic[\"class\"] == \"1st\"][\"age\"].plot.hist()\n",
        "df_titanic[df_titanic[\"class\"] == \"3rd\"][\"age\"].plot.hist()"
      ],
      "execution_count": 17,
      "outputs": [
        {
          "output_type": "execute_result",
          "data": {
            "text/plain": [
              "<Axes: ylabel='Frequency'>"
            ]
          },
          "metadata": {},
          "execution_count": 17
        },
        {
          "output_type": "display_data",
          "data": {
            "text/plain": [
              "<Figure size 640x480 with 1 Axes>"
            ],
            "image/png": "[encoded data removed]"
          },
          "metadata": {}
        }
      ]
    },
    {
      "cell_type": "markdown",
      "metadata": {
        "id": "mSJDlAx1A9nQ"
      },
      "source": [
        "Notice that `pandas` automatically plotted the two histograms using different colors. There are two problems with this plot. First, we don't know which color corresponds to which variable. Second, we cannot see the blue histogram underneath the orange histogram because the colors are opaque.\n",
        "\n",
        "To solve the first problem, we add a legend for each variable by specifying `legend=True`. The label that will be used in the legend will be the name of the `Series` by default; to customize this, we can specify the label using `label=`.\n",
        "\n",
        "To solve the second problem, we set the transparency `alpha`, which is a number between 0 and 1, with 0 being perfectly transparent and 1 being completely opaque. Try varying `alpha` to get a feel for what it does."
      ]
    },
    {
      "cell_type": "code",
      "metadata": {
        "id": "TWMrPFWCAhbQ"
      },
      "source": [
        "df_titanic[df_titanic[\"class\"] == \"1st\"][\"age\"].plot.hist(\n",
        "    label=\"1st\", legend=True, alpha=0.5\n",
        ")\n",
        "df_titanic[df_titanic[\"class\"] == \"3rd\"][\"age\"].plot.hist(\n",
        "    label=\"3rd\", legend=True, alpha=0.5\n",
        ")"
      ],
      "execution_count": null,
      "outputs": []
    },
    {
      "cell_type": "markdown",
      "metadata": {
        "id": "Cubp2y63BEbM"
      },
      "source": [
        "### Densities\n",
        "\n",
        "Another way to visualize the distribution of a quantitative variable is by plotting its **density**. A density plot turns the jagged histogram into a smooth curve, allowing the user to focus on the general shape of the distribution."
      ]
    },
    {
      "cell_type": "code",
      "metadata": {
        "id": "roxJARIDB0jZ"
      },
      "source": [
        "df_titanic.fare.plot.density()"
      ],
      "execution_count": null,
      "outputs": []
    },
    {
      "cell_type": "markdown",
      "metadata": {
        "id": "JAUStBW0B7ZT"
      },
      "source": [
        "The x-axis is too wide. (You cannot have negative fares.) We can set the limits of the x-axis manually using the `xlim` argument."
      ]
    },
    {
      "cell_type": "code",
      "metadata": {
        "id": "GRuG5sREB-hD"
      },
      "source": [
        "df_titanic.fare.plot.density(xlim=(0, 600))"
      ],
      "execution_count": null,
      "outputs": []
    },
    {
      "cell_type": "markdown",
      "metadata": {
        "id": "145admmDCDtJ"
      },
      "source": [
        "Let's superimpose this density curve on top of the histogram, by making two calls to plotting functions:"
      ]
    },
    {
      "cell_type": "code",
      "metadata": {
        "id": "AYvwFxGlCAlU"
      },
      "source": [
        "df_titanic.fare.plot.hist(bins=50)\n",
        "df_titanic.fare.plot.density(xlim=(0, 600))"
      ],
      "execution_count": null,
      "outputs": []
    },
    {
      "cell_type": "markdown",
      "metadata": {
        "id": "KZ3V-C_JCIO8"
      },
      "source": [
        "If you squint at this plot, you will see an orange line at the bottom of the plot. This is supposed to be the density. But why does it appear as a flat line? The y-axis offers a hint. When we made the density plot earlier, the y-axis extended from 0 to about 0.02. Now the y-axis extends all the way to 500. On such a scale, a curve that fluctuates between 0 and 0.02 will appear to be a flat line!\n",
        "\n",
        "The problem is that the histogram and the density are currently on different scales. By default, histograms display counts, while densities display distributions. In other words, densities are normalized so that the total area under the curve is 1. To be able to display a histogram and density on the same graph, we have to normalize the histogram so that the total area of the bars is 1. We can do this by setting the option `density=True`."
      ]
    },
    {
      "cell_type": "code",
      "metadata": {
        "id": "zfDfgNHMCH9E"
      },
      "source": [
        "df_titanic.fare.plot.hist(bins=50, density=True)\n",
        "df_titanic.fare.plot.density(xlim=(0, 600))"
      ],
      "execution_count": null,
      "outputs": []
    },
    {
      "cell_type": "markdown",
      "metadata": {
        "id": "W71GjPywCO5P"
      },
      "source": [
        "Now we can clearly see how the density smooths the histogram. It does a pretty good job for the most part, but it \"oversmooths\" near 0, missing the spike."
      ]
    },
    {
      "cell_type": "markdown",
      "metadata": {
        "id": "OtZBBzCQCSSo"
      },
      "source": [
        "You might wonder what options are available besides `legend`, `alpha`, `bins`, `density`, and `xlim`. Let's look at the documentation for `.plot.hist()`."
      ]
    },
    {
      "cell_type": "code",
      "metadata": {
        "id": "B9wl_ShMCOog"
      },
      "source": [
        "df_titanic.fare.plot.hist?"
      ],
      "execution_count": null,
      "outputs": []
    },
    {
      "cell_type": "markdown",
      "metadata": {
        "id": "islDILU2CbwO"
      },
      "source": [
        "The documentation for `.plot.hist()` tells us about one option, `bins`, but then refers us to `.plot()` for additional options. If you peek inside `.plot()`, you will find the `legend`, `density`, and `xlim` options, as well as many others."
      ]
    },
    {
      "cell_type": "code",
      "metadata": {
        "id": "GIu2BO44Cbhd"
      },
      "source": [
        "df_titanic.fare.plot?"
      ],
      "execution_count": null,
      "outputs": []
    },
    {
      "cell_type": "markdown",
      "metadata": {
        "id": "peaOk3u2CfvL"
      },
      "source": [
        "Try these out to get a feel for what they do. For example, can you figure out how to make the density curve red in the above graph? Or how to change the size of the figure?\n",
        "\n",
        "You might be surprised that `alpha` is not listed among the options above. This is because `alpha` is an option of the `matplotlib` plotting method that `pandas` calls. (Notice that the last argument of `.plot()` is `**kwds`, for \"options to pass to matplotlib plotting method\".)"
      ]
    },
    {
      "cell_type": "markdown",
      "metadata": {
        "id": "zu-iZlGPCr-8"
      },
      "source": [
        "## Exercises\n",
        "\n",
        "Exercises 1-6 ask you to work with the tips data set (https://dlsun.github.io/pods/data/tips.csv), which contains data on the tips paid to a waiter by different parties."
      ]
    },
    {
      "cell_type": "markdown",
      "metadata": {
        "id": "NgD4yzQpCjI0"
      },
      "source": [
        "1\\. How many people were in the largest party served by the waiter? The smallest?"
      ]
    },
    {
      "cell_type": "code",
      "source": [
        "df_tips = pd.read_csv(\"/content/tips.csv\")\n",
        "\n",
        "\n",
        "(df_tips.iloc[df_tips[\"size\"].idxmax()], df_tips.iloc[df_tips[\"size\"].idxmin()])\n",
        "\n",
        "# Largest party had 6 people\n",
        "# Smallest party had 1\n"
      ],
      "metadata": {
        "id": "NzxUOKWBptvU",
        "outputId": "1b416608-e655-4041-a358-df7bdfab8960",
        "colab": {
          "base_uri": "https://localhost:8080/"
        }
      },
      "execution_count": 28,
      "outputs": [
        {
          "output_type": "execute_result",
          "data": {
            "text/plain": [
              "(total_bill      29.8\n",
              " tip              4.2\n",
              " sex           Female\n",
              " smoker            No\n",
              " day             Thur\n",
              " time           Lunch\n",
              " size               6\n",
              " Name: 125, dtype: object,\n",
              " total_bill      3.07\n",
              " tip              1.0\n",
              " sex           Female\n",
              " smoker           Yes\n",
              " day              Sat\n",
              " time          Dinner\n",
              " size               1\n",
              " Name: 67, dtype: object)"
            ]
          },
          "metadata": {},
          "execution_count": 28
        }
      ]
    },
    {
      "cell_type": "markdown",
      "metadata": {
        "id": "7qSAJSlDsBNt"
      },
      "source": [
        "2\\. How could you use the `.quantile()` function to calculate the median? Check that your method works on an appropriate variable from the Tips data set."
      ]
    },
    {
      "cell_type": "code",
      "source": [
        "df_tips[\"tip\"].quantile(.50)"
      ],
      "metadata": {
        "id": "K8482bYtq_E3",
        "outputId": "16eb8f18-154c-4aaa-cbb5-27d0bcb7b8ab",
        "colab": {
          "base_uri": "https://localhost:8080/"
        }
      },
      "execution_count": 29,
      "outputs": [
        {
          "output_type": "execute_result",
          "data": {
            "text/plain": [
              "2.9"
            ]
          },
          "metadata": {},
          "execution_count": 29
        }
      ]
    },
    {
      "cell_type": "markdown",
      "metadata": {
        "id": "OjJt4vOdsEoT"
      },
      "source": [
        "3\\. Another measure of spread is the **interquartile range**, or IQR, defined as:\n",
        "\n",
        "$$ \\textrm{IQR} = \\textrm{75th percentile} - \\textrm{25th percentile}. $$\n",
        "\n",
        "Measure the spread in the total bills by reporting the IQR."
      ]
    },
    {
      "cell_type": "code",
      "source": [
        "df_tips[\"total_bill\"].quantile(.75) - df_tips[\"total_bill\"].quantile(.25)"
      ],
      "metadata": {
        "id": "iq9z2ed9rLue",
        "outputId": "0ebdd688-3708-4603-be13-41b2330a8677",
        "colab": {
          "base_uri": "https://localhost:8080/"
        }
      },
      "execution_count": 31,
      "outputs": [
        {
          "output_type": "execute_result",
          "data": {
            "text/plain": [
              "10.779999999999998"
            ]
          },
          "metadata": {},
          "execution_count": 31
        }
      ]
    },
    {
      "cell_type": "markdown",
      "metadata": {
        "id": "XYsi5LL6sHz-"
      },
      "source": [
        "4\\. Some people use MAD to refer to the **median absolute deviation**. The median absolute deviation is the same as the mean absolute deviation, but it uses the median instead of the mean:\n",
        "\n",
        "$$\\textrm{M(edian)AD} = \\textrm{median of } |x_i - \\textrm{median}|. $$\n",
        "\n",
        "Calculate the median absolute deviation of the total bills. (The median absolute deviation is not built into Pandas, so you will have to implement it from scratch.)"
      ]
    },
    {
      "cell_type": "code",
      "source": [
        "(df_tips[\"total_bill\"] - df_tips[\"total_bill\"].median()).abs().median()\n",
        "# REMEMBER THAT IT APPLIES TO ALL ON THE COLUMN"
      ],
      "metadata": {
        "id": "oQD1SUcbrVhZ",
        "outputId": "6a7b1e52-811a-448a-cfdf-e7fe52376dee",
        "colab": {
          "base_uri": "https://localhost:8080/"
        }
      },
      "execution_count": 32,
      "outputs": [
        {
          "output_type": "execute_result",
          "data": {
            "text/plain": [
              "5.03"
            ]
          },
          "metadata": {},
          "execution_count": 32
        }
      ]
    },
    {
      "cell_type": "markdown",
      "metadata": {
        "id": "FLCb7zbVsR4A"
      },
      "source": [
        "5\\. Make a graphic that shows the distribution of total bills. Explain what you see."
      ]
    },
    {
      "cell_type": "code",
      "source": [
        "df_tips.total_bill.plot.hist()\n",
        "# notice a convergence in the center"
      ],
      "metadata": {
        "id": "Thd-2ibsrydd",
        "outputId": "c484d0a8-9e46-4e6b-c19f-fa57fc03531a",
        "colab": {
          "base_uri": "https://localhost:8080/",
          "height": 448
        }
      },
      "execution_count": 33,
      "outputs": [
        {
          "output_type": "execute_result",
          "data": {
            "text/plain": [
              "<Axes: ylabel='Frequency'>"
            ]
          },
          "metadata": {},
          "execution_count": 33
        },
        {
          "output_type": "display_data",
          "data": {
            "text/plain": [
              "<Figure size 640x480 with 1 Axes>"
            ],
            "image/png": "[encoded data removed]"
          },
          "metadata": {}
        }
      ]
    },
    {
      "cell_type": "markdown",
      "metadata": {
        "id": "ENRti8XEsavx"
      },
      "source": [
        "6\\. Recall from the previous chapter that _bar charts_ are used to visualize categorical variables. What happens when you call `.plot.bar()` on a quantitative variable, like `tip`? Why does it look this way? Do you think bar charts are appropriate for quantitative variables?"
      ]
    },
    {
      "cell_type": "code",
      "source": [
        "df_tips.tip.plot.bar()\n",
        "# There seems to be a lot of varying single values. The bar charts are appropriate for quantative vars because there are only a few."
      ],
      "metadata": {
        "id": "deDAPohir_Uk",
        "outputId": "41bc55aa-977b-4536-f98d-f90f271bdad1",
        "colab": {
          "base_uri": "https://localhost:8080/",
          "height": 460
        }
      },
      "execution_count": 35,
      "outputs": [
        {
          "output_type": "execute_result",
          "data": {
            "text/plain": [
              "<Axes: >"
            ]
          },
          "metadata": {},
          "execution_count": 35
        },
        {
          "output_type": "display_data",
          "data": {
            "text/plain": [
              "<Figure size 640x480 with 1 Axes>"
            ],
            "image/png": "[encoded data removed]"
          },
          "metadata": {}
        }
      ]
    }
  ]
}